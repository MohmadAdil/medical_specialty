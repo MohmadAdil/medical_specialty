{
 "cells": [
  {
   "cell_type": "markdown",
   "id": "15e8d3b8",
   "metadata": {},
   "source": [
    "# Importing Data"
   ]
  },
  {
   "cell_type": "code",
   "execution_count": 1,
   "id": "4fc0f839",
   "metadata": {},
   "outputs": [],
   "source": [
    "import pandas as pd\n",
    "import numpy as np\n",
    "import matplotlib.pyplot as plt\n",
    "import seaborn as sns\n",
    "from sklearn.preprocessing import LabelEncoder"
   ]
  },
  {
   "cell_type": "code",
   "execution_count": 2,
   "id": "b3c7fa07",
   "metadata": {},
   "outputs": [
    {
     "data": {
      "text/html": [
       "<div>\n",
       "<style scoped>\n",
       "    .dataframe tbody tr th:only-of-type {\n",
       "        vertical-align: middle;\n",
       "    }\n",
       "\n",
       "    .dataframe tbody tr th {\n",
       "        vertical-align: top;\n",
       "    }\n",
       "\n",
       "    .dataframe thead th {\n",
       "        text-align: right;\n",
       "    }\n",
       "</style>\n",
       "<table border=\"1\" class=\"dataframe\">\n",
       "  <thead>\n",
       "    <tr style=\"text-align: right;\">\n",
       "      <th></th>\n",
       "      <th>Id</th>\n",
       "      <th>description</th>\n",
       "      <th>medical_specialty</th>\n",
       "      <th>sample_name</th>\n",
       "      <th>transcription</th>\n",
       "    </tr>\n",
       "  </thead>\n",
       "  <tbody>\n",
       "    <tr>\n",
       "      <th>0</th>\n",
       "      <td>1</td>\n",
       "      <td>Patient had a recurrent left arm pain after h...</td>\n",
       "      <td>Cardiovascular / Pulmonary</td>\n",
       "      <td>Angina - Consult</td>\n",
       "      <td>HISTORY OF PRESENT ILLNESS: , The patient is a...</td>\n",
       "    </tr>\n",
       "    <tr>\n",
       "      <th>1</th>\n",
       "      <td>2</td>\n",
       "      <td>The patient is an 84-year-old female presente...</td>\n",
       "      <td>Cardiovascular / Pulmonary</td>\n",
       "      <td>Pericardial Effusion</td>\n",
       "      <td>REASON FOR CONSULTATION:,  Pericardial effusio...</td>\n",
       "    </tr>\n",
       "    <tr>\n",
       "      <th>2</th>\n",
       "      <td>3</td>\n",
       "      <td>Hand dermatitis.</td>\n",
       "      <td>Dermatology</td>\n",
       "      <td>Dermatitis - SOAP</td>\n",
       "      <td>SUBJECTIVE:,  This is a 29-year-old Vietnamese...</td>\n",
       "    </tr>\n",
       "    <tr>\n",
       "      <th>3</th>\n",
       "      <td>4</td>\n",
       "      <td>Recurrent degenerative spondylolisthesis and ...</td>\n",
       "      <td>Surgery</td>\n",
       "      <td>Lumbar Re-exploration</td>\n",
       "      <td>PREOPERATIVE DIAGNOSIS: , Recurrent degenerati...</td>\n",
       "    </tr>\n",
       "    <tr>\n",
       "      <th>4</th>\n",
       "      <td>5</td>\n",
       "      <td>Chiropractic IME with old files review.  Deta...</td>\n",
       "      <td>IME-QME-Work Comp etc.</td>\n",
       "      <td>Chiropractic IME - 2</td>\n",
       "      <td>DATE OF INJURY : October 4, 2000,DATE OF EXAMI...</td>\n",
       "    </tr>\n",
       "  </tbody>\n",
       "</table>\n",
       "</div>"
      ],
      "text/plain": [
       "   Id                                        description  \\\n",
       "0   1   Patient had a recurrent left arm pain after h...   \n",
       "1   2   The patient is an 84-year-old female presente...   \n",
       "2   3                                   Hand dermatitis.   \n",
       "3   4   Recurrent degenerative spondylolisthesis and ...   \n",
       "4   5   Chiropractic IME with old files review.  Deta...   \n",
       "\n",
       "             medical_specialty              sample_name  \\\n",
       "0   Cardiovascular / Pulmonary        Angina - Consult    \n",
       "1   Cardiovascular / Pulmonary    Pericardial Effusion    \n",
       "2                  Dermatology       Dermatitis - SOAP    \n",
       "3                      Surgery   Lumbar Re-exploration    \n",
       "4       IME-QME-Work Comp etc.    Chiropractic IME - 2    \n",
       "\n",
       "                                       transcription  \n",
       "0  HISTORY OF PRESENT ILLNESS: , The patient is a...  \n",
       "1  REASON FOR CONSULTATION:,  Pericardial effusio...  \n",
       "2  SUBJECTIVE:,  This is a 29-year-old Vietnamese...  \n",
       "3  PREOPERATIVE DIAGNOSIS: , Recurrent degenerati...  \n",
       "4  DATE OF INJURY : October 4, 2000,DATE OF EXAMI...  "
      ]
     },
     "execution_count": 2,
     "metadata": {},
     "output_type": "execute_result"
    }
   ],
   "source": [
    "df=pd.read_csv(\"../../train.csv\")\n",
    "df.head()"
   ]
  },
  {
   "cell_type": "markdown",
   "id": "252d6d94",
   "metadata": {},
   "source": [
    "# EDA and Preprocessing"
   ]
  },
  {
   "cell_type": "code",
   "execution_count": 3,
   "id": "cdde916c",
   "metadata": {},
   "outputs": [
    {
     "name": "stdout",
     "output_type": "stream",
     "text": [
      "<class 'pandas.core.frame.DataFrame'>\n",
      "RangeIndex: 3384 entries, 0 to 3383\n",
      "Data columns (total 5 columns):\n",
      " #   Column             Non-Null Count  Dtype \n",
      "---  ------             --------------  ----- \n",
      " 0   Id                 3384 non-null   int64 \n",
      " 1   description        3384 non-null   object\n",
      " 2   medical_specialty  3384 non-null   object\n",
      " 3   sample_name        3384 non-null   object\n",
      " 4   transcription      3360 non-null   object\n",
      "dtypes: int64(1), object(4)\n",
      "memory usage: 132.3+ KB\n"
     ]
    }
   ],
   "source": [
    "df.info()"
   ]
  },
  {
   "cell_type": "code",
   "execution_count": 4,
   "id": "2358fe56",
   "metadata": {},
   "outputs": [
    {
     "data": {
      "text/plain": [
       "Id                    0\n",
       "description           0\n",
       "medical_specialty     0\n",
       "sample_name           0\n",
       "transcription        24\n",
       "dtype: int64"
      ]
     },
     "execution_count": 4,
     "metadata": {},
     "output_type": "execute_result"
    }
   ],
   "source": [
    "df.isnull().sum()"
   ]
  },
  {
   "cell_type": "code",
   "execution_count": 5,
   "id": "ceb9624a",
   "metadata": {},
   "outputs": [],
   "source": [
    "df=df.dropna()"
   ]
  },
  {
   "cell_type": "code",
   "execution_count": 6,
   "id": "38c198e2",
   "metadata": {},
   "outputs": [
    {
     "data": {
      "text/plain": [
       "Id                   0\n",
       "description          0\n",
       "medical_specialty    0\n",
       "sample_name          0\n",
       "transcription        0\n",
       "dtype: int64"
      ]
     },
     "execution_count": 6,
     "metadata": {},
     "output_type": "execute_result"
    }
   ],
   "source": [
    "df.isnull().sum()"
   ]
  },
  {
   "cell_type": "code",
   "execution_count": 7,
   "id": "58493348",
   "metadata": {},
   "outputs": [
    {
     "data": {
      "text/html": [
       "<div>\n",
       "<style scoped>\n",
       "    .dataframe tbody tr th:only-of-type {\n",
       "        vertical-align: middle;\n",
       "    }\n",
       "\n",
       "    .dataframe tbody tr th {\n",
       "        vertical-align: top;\n",
       "    }\n",
       "\n",
       "    .dataframe thead th {\n",
       "        text-align: right;\n",
       "    }\n",
       "</style>\n",
       "<table border=\"1\" class=\"dataframe\">\n",
       "  <thead>\n",
       "    <tr style=\"text-align: right;\">\n",
       "      <th></th>\n",
       "      <th>Id</th>\n",
       "      <th>description</th>\n",
       "      <th>medical_specialty</th>\n",
       "      <th>sample_name</th>\n",
       "      <th>transcription</th>\n",
       "    </tr>\n",
       "  </thead>\n",
       "  <tbody>\n",
       "    <tr>\n",
       "      <th>0</th>\n",
       "      <td>1</td>\n",
       "      <td>Patient had a recurrent left arm pain after h...</td>\n",
       "      <td>Cardiovascular / Pulmonary</td>\n",
       "      <td>Angina - Consult</td>\n",
       "      <td>HISTORY OF PRESENT ILLNESS: , The patient is a...</td>\n",
       "    </tr>\n",
       "    <tr>\n",
       "      <th>1</th>\n",
       "      <td>2</td>\n",
       "      <td>The patient is an 84-year-old female presente...</td>\n",
       "      <td>Cardiovascular / Pulmonary</td>\n",
       "      <td>Pericardial Effusion</td>\n",
       "      <td>REASON FOR CONSULTATION:,  Pericardial effusio...</td>\n",
       "    </tr>\n",
       "    <tr>\n",
       "      <th>2</th>\n",
       "      <td>3</td>\n",
       "      <td>Hand dermatitis.</td>\n",
       "      <td>Dermatology</td>\n",
       "      <td>Dermatitis - SOAP</td>\n",
       "      <td>SUBJECTIVE:,  This is a 29-year-old Vietnamese...</td>\n",
       "    </tr>\n",
       "    <tr>\n",
       "      <th>3</th>\n",
       "      <td>4</td>\n",
       "      <td>Recurrent degenerative spondylolisthesis and ...</td>\n",
       "      <td>Surgery</td>\n",
       "      <td>Lumbar Re-exploration</td>\n",
       "      <td>PREOPERATIVE DIAGNOSIS: , Recurrent degenerati...</td>\n",
       "    </tr>\n",
       "    <tr>\n",
       "      <th>4</th>\n",
       "      <td>5</td>\n",
       "      <td>Chiropractic IME with old files review.  Deta...</td>\n",
       "      <td>IME-QME-Work Comp etc.</td>\n",
       "      <td>Chiropractic IME - 2</td>\n",
       "      <td>DATE OF INJURY : October 4, 2000,DATE OF EXAMI...</td>\n",
       "    </tr>\n",
       "  </tbody>\n",
       "</table>\n",
       "</div>"
      ],
      "text/plain": [
       "   Id                                        description  \\\n",
       "0   1   Patient had a recurrent left arm pain after h...   \n",
       "1   2   The patient is an 84-year-old female presente...   \n",
       "2   3                                   Hand dermatitis.   \n",
       "3   4   Recurrent degenerative spondylolisthesis and ...   \n",
       "4   5   Chiropractic IME with old files review.  Deta...   \n",
       "\n",
       "             medical_specialty              sample_name  \\\n",
       "0   Cardiovascular / Pulmonary        Angina - Consult    \n",
       "1   Cardiovascular / Pulmonary    Pericardial Effusion    \n",
       "2                  Dermatology       Dermatitis - SOAP    \n",
       "3                      Surgery   Lumbar Re-exploration    \n",
       "4       IME-QME-Work Comp etc.    Chiropractic IME - 2    \n",
       "\n",
       "                                       transcription  \n",
       "0  HISTORY OF PRESENT ILLNESS: , The patient is a...  \n",
       "1  REASON FOR CONSULTATION:,  Pericardial effusio...  \n",
       "2  SUBJECTIVE:,  This is a 29-year-old Vietnamese...  \n",
       "3  PREOPERATIVE DIAGNOSIS: , Recurrent degenerati...  \n",
       "4  DATE OF INJURY : October 4, 2000,DATE OF EXAMI...  "
      ]
     },
     "execution_count": 7,
     "metadata": {},
     "output_type": "execute_result"
    }
   ],
   "source": [
    "df.head()"
   ]
  },
  {
   "cell_type": "code",
   "execution_count": 8,
   "id": "90d087a0",
   "metadata": {},
   "outputs": [
    {
     "data": {
      "text/html": [
       "<div>\n",
       "<style scoped>\n",
       "    .dataframe tbody tr th:only-of-type {\n",
       "        vertical-align: middle;\n",
       "    }\n",
       "\n",
       "    .dataframe tbody tr th {\n",
       "        vertical-align: top;\n",
       "    }\n",
       "\n",
       "    .dataframe thead th {\n",
       "        text-align: right;\n",
       "    }\n",
       "</style>\n",
       "<table border=\"1\" class=\"dataframe\">\n",
       "  <thead>\n",
       "    <tr style=\"text-align: right;\">\n",
       "      <th></th>\n",
       "      <th>Id</th>\n",
       "      <th>description</th>\n",
       "      <th>medical_specialty</th>\n",
       "      <th>sample_name</th>\n",
       "      <th>transcription</th>\n",
       "    </tr>\n",
       "  </thead>\n",
       "  <tbody>\n",
       "    <tr>\n",
       "      <th>0</th>\n",
       "      <td>1</td>\n",
       "      <td>Patient had a recurrent left arm pain after h...</td>\n",
       "      <td>Cardiovascular / Pulmonary</td>\n",
       "      <td>Angina - Consult</td>\n",
       "      <td>HISTORY OF PRESENT ILLNESS: , The patient is a...</td>\n",
       "    </tr>\n",
       "    <tr>\n",
       "      <th>1</th>\n",
       "      <td>2</td>\n",
       "      <td>The patient is an 84-year-old female presente...</td>\n",
       "      <td>Cardiovascular / Pulmonary</td>\n",
       "      <td>Pericardial Effusion</td>\n",
       "      <td>REASON FOR CONSULTATION:,  Pericardial effusio...</td>\n",
       "    </tr>\n",
       "    <tr>\n",
       "      <th>2</th>\n",
       "      <td>3</td>\n",
       "      <td>Hand dermatitis.</td>\n",
       "      <td>Dermatology</td>\n",
       "      <td>Dermatitis - SOAP</td>\n",
       "      <td>SUBJECTIVE:,  This is a 29-year-old Vietnamese...</td>\n",
       "    </tr>\n",
       "    <tr>\n",
       "      <th>3</th>\n",
       "      <td>4</td>\n",
       "      <td>Recurrent degenerative spondylolisthesis and ...</td>\n",
       "      <td>Surgery</td>\n",
       "      <td>Lumbar Re-exploration</td>\n",
       "      <td>PREOPERATIVE DIAGNOSIS: , Recurrent degenerati...</td>\n",
       "    </tr>\n",
       "    <tr>\n",
       "      <th>4</th>\n",
       "      <td>5</td>\n",
       "      <td>Chiropractic IME with old files review.  Deta...</td>\n",
       "      <td>IME-QME-Work Comp etc.</td>\n",
       "      <td>Chiropractic IME - 2</td>\n",
       "      <td>DATE OF INJURY : October 4, 2000,DATE OF EXAMI...</td>\n",
       "    </tr>\n",
       "  </tbody>\n",
       "</table>\n",
       "</div>"
      ],
      "text/plain": [
       "   Id                                        description  \\\n",
       "0   1   Patient had a recurrent left arm pain after h...   \n",
       "1   2   The patient is an 84-year-old female presente...   \n",
       "2   3                                   Hand dermatitis.   \n",
       "3   4   Recurrent degenerative spondylolisthesis and ...   \n",
       "4   5   Chiropractic IME with old files review.  Deta...   \n",
       "\n",
       "             medical_specialty              sample_name  \\\n",
       "0   Cardiovascular / Pulmonary        Angina - Consult    \n",
       "1   Cardiovascular / Pulmonary    Pericardial Effusion    \n",
       "2                  Dermatology       Dermatitis - SOAP    \n",
       "3                      Surgery   Lumbar Re-exploration    \n",
       "4       IME-QME-Work Comp etc.    Chiropractic IME - 2    \n",
       "\n",
       "                                       transcription  \n",
       "0  HISTORY OF PRESENT ILLNESS: , The patient is a...  \n",
       "1  REASON FOR CONSULTATION:,  Pericardial effusio...  \n",
       "2  SUBJECTIVE:,  This is a 29-year-old Vietnamese...  \n",
       "3  PREOPERATIVE DIAGNOSIS: , Recurrent degenerati...  \n",
       "4  DATE OF INJURY : October 4, 2000,DATE OF EXAMI...  "
      ]
     },
     "execution_count": 8,
     "metadata": {},
     "output_type": "execute_result"
    }
   ],
   "source": [
    "df.head()"
   ]
  },
  {
   "cell_type": "code",
   "execution_count": 9,
   "id": "c9fb2b1c",
   "metadata": {},
   "outputs": [
    {
     "data": {
      "text/plain": [
       "(3360, 5)"
      ]
     },
     "execution_count": 9,
     "metadata": {},
     "output_type": "execute_result"
    }
   ],
   "source": [
    "df.shape"
   ]
  },
  {
   "cell_type": "code",
   "execution_count": 10,
   "id": "5329f47d",
   "metadata": {},
   "outputs": [
    {
     "data": {
      "text/plain": [
       "array([' Cardiovascular / Pulmonary', ' Dermatology', ' Surgery',\n",
       "       ' IME-QME-Work Comp etc.', ' General Medicine', ' Orthopedic',\n",
       "       ' Gastroenterology', ' Pain Management',\n",
       "       ' Consult - History and Phy.', ' Radiology',\n",
       "       ' Hematology - Oncology', ' Neurology', ' Nephrology', ' Podiatry',\n",
       "       ' Office Notes', ' Rheumatology', ' Neurosurgery',\n",
       "       ' Endocrinology', ' Discharge Summary', ' Bariatrics',\n",
       "       ' SOAP / Chart / Progress Notes', ' ENT - Otolaryngology',\n",
       "       ' Ophthalmology', ' Letters', ' Cosmetic / Plastic Surgery',\n",
       "       ' Dentistry', ' Physical Medicine - Rehab',\n",
       "       ' Psychiatry / Psychology', ' Autopsy', ' Sleep Medicine',\n",
       "       ' Speech - Language', ' Allergy / Immunology',\n",
       "       ' Lab Medicine - Pathology', ' Chiropractic', ' SCARF type'],\n",
       "      dtype=object)"
      ]
     },
     "execution_count": 10,
     "metadata": {},
     "output_type": "execute_result"
    }
   ],
   "source": [
    "df['medical_specialty'].unique()"
   ]
  },
  {
   "cell_type": "code",
   "execution_count": 11,
   "id": "f60c15a2",
   "metadata": {},
   "outputs": [
    {
     "data": {
      "text/plain": [
       "35"
      ]
     },
     "execution_count": 11,
     "metadata": {},
     "output_type": "execute_result"
    }
   ],
   "source": [
    "# How many classes?\n",
    "\n",
    "len(df['medical_specialty'].unique())"
   ]
  },
  {
   "cell_type": "code",
   "execution_count": 12,
   "id": "9812b1f3",
   "metadata": {
    "scrolled": true
   },
   "outputs": [
    {
     "data": {
      "text/plain": [
       "medical_specialty\n",
       " Surgery                          775\n",
       " Consult - History and Phy.       310\n",
       " Cardiovascular / Pulmonary       308\n",
       " Orthopedic                       294\n",
       " Radiology                        225\n",
       " General Medicine                 188\n",
       " Gastroenterology                 183\n",
       " Neurology                        166\n",
       " SOAP / Chart / Progress Notes    130\n",
       " ENT - Otolaryngology              77\n",
       " Discharge Summary                 75\n",
       " Neurosurgery                      73\n",
       " Hematology - Oncology             72\n",
       " Nephrology                        69\n",
       " Ophthalmology                     64\n",
       " Pain Management                   54\n",
       " Podiatry                          43\n",
       " Office Notes                      34\n",
       " Dermatology                       23\n",
       " Psychiatry / Psychology           22\n",
       " Dentistry                         21\n",
       " Cosmetic / Plastic Surgery        19\n",
       " Letters                           18\n",
       " Physical Medicine - Rehab         17\n",
       " Sleep Medicine                    17\n",
       " Endocrinology                     14\n",
       " IME-QME-Work Comp etc.            13\n",
       " Bariatrics                        12\n",
       " Chiropractic                      11\n",
       " Speech - Language                  9\n",
       " Rheumatology                       8\n",
       " Lab Medicine - Pathology           8\n",
       " Allergy / Immunology               5\n",
       " Autopsy                            2\n",
       " SCARF type                         1\n",
       "Name: count, dtype: int64"
      ]
     },
     "execution_count": 12,
     "metadata": {},
     "output_type": "execute_result"
    }
   ],
   "source": [
    "# How many examples of each classes?\n",
    "df.medical_specialty.value_counts()"
   ]
  },
  {
   "cell_type": "code",
   "execution_count": 13,
   "id": "e10217f2",
   "metadata": {},
   "outputs": [],
   "source": [
    "import pandas as pd\n",
    "\n",
    "# df is your DataFrame and 'medical_specialty' is the column containing the target classes\n",
    "top_classes = df['medical_specialty'].value_counts().head(10).index.tolist()\n",
    "\n",
    "# Filter the DataFrame to include only the rows with the top 10 classes\n",
    "df = df[df['medical_specialty'].isin(top_classes)]"
   ]
  },
  {
   "cell_type": "code",
   "execution_count": 14,
   "id": "2f77fe1c",
   "metadata": {},
   "outputs": [
    {
     "data": {
      "text/plain": [
       "<Axes: xlabel='medical_specialty'>"
      ]
     },
     "execution_count": 14,
     "metadata": {},
     "output_type": "execute_result"
    },
    {
     "data": {
      "image/png": "[encoded data removed]",
      "text/plain": [
       "<Figure size 640x480 with 1 Axes>"
      ]
     },
     "metadata": {},
     "output_type": "display_data"
    }
   ],
   "source": [
    "df['medical_specialty'].value_counts().plot(kind='bar')"
   ]
  },
  {
   "cell_type": "code",
   "execution_count": 15,
   "id": "61d4c48a",
   "metadata": {},
   "outputs": [
    {
     "data": {
      "image/png": "[encoded data removed]",
      "text/plain": [
       "<Figure size 1200x700 with 1 Axes>"
      ]
     },
     "metadata": {},
     "output_type": "display_data"
    }
   ],
   "source": [
    "ms = df['medical_specialty'].value_counts()\n",
    "colors = ['orange', 'yellow', 'green', 'red', 'cyan']\n",
    "\n",
    "# Plotting the bar chart\n",
    "plt.figure(figsize=(12, 7))\n",
    "ms.plot(kind='bar', color=colors, edgecolor='black')\n",
    "\n",
    "# Adding titles and labels with better font sizes\n",
    "plt.title(\"Number of Transcriptions by Medical Specialty\", fontsize=16)\n",
    "plt.ylabel('Count of Transcriptions', fontsize=14)\n",
    "plt.xlabel('Medical Specialty', fontsize=14)\n",
    "\n",
    "# Rotating x-axis labels for better readability\n",
    "plt.xticks(rotation=45, ha='right', fontsize=12)\n",
    "\n",
    "# Adding grid lines for better visualization\n",
    "plt.grid(axis='y', linestyle='--', alpha=0.7)\n",
    "\n",
    "# Removing top and right spines for cleaner plot\n",
    "plt.gca().spines['top'].set_visible(False)\n",
    "plt.gca().spines['right'].set_visible(False)\n",
    "\n",
    "plt.show()"
   ]
  },
  {
   "cell_type": "code",
   "execution_count": 16,
   "id": "4a032b20",
   "metadata": {},
   "outputs": [
    {
     "data": {
      "image/png": "[encoded data removed]",
      "text/plain": [
       "<Figure size 1000x700 with 1 Axes>"
      ]
     },
     "metadata": {},
     "output_type": "display_data"
    }
   ],
   "source": [
    "import pandas as pd\n",
    "import matplotlib.pyplot as plt\n",
    "\n",
    "# df is your DataFrame and 'medical_specialty' is one of its columns\n",
    "ms = df['medical_specialty'].value_counts()\n",
    "\n",
    "# Plotting\n",
    "plt.figure(figsize=(10, 7))\n",
    "ms.plot(kind='pie', autopct='%1.1f%%', startangle=140)\n",
    "\n",
    "# Adding title\n",
    "plt.title(\"Distribution of Medical Specialties\")\n",
    "\n",
    "# Display the plot\n",
    "plt.axis('equal')  # Equal aspect ratio ensures that pie is drawn as a circle.\n",
    "plt.show()\n"
   ]
  },
  {
   "cell_type": "code",
   "execution_count": 17,
   "id": "90b3301f",
   "metadata": {},
   "outputs": [
    {
     "data": {
      "text/plain": [
       "Id                    int64\n",
       "description          object\n",
       "medical_specialty    object\n",
       "sample_name          object\n",
       "transcription        object\n",
       "dtype: object"
      ]
     },
     "execution_count": 17,
     "metadata": {},
     "output_type": "execute_result"
    }
   ],
   "source": [
    "df.dtypes"
   ]
  },
  {
   "cell_type": "code",
   "execution_count": 18,
   "id": "5ee8a187",
   "metadata": {},
   "outputs": [
    {
     "data": {
      "text/html": [
       "<div>\n",
       "<style scoped>\n",
       "    .dataframe tbody tr th:only-of-type {\n",
       "        vertical-align: middle;\n",
       "    }\n",
       "\n",
       "    .dataframe tbody tr th {\n",
       "        vertical-align: top;\n",
       "    }\n",
       "\n",
       "    .dataframe thead th {\n",
       "        text-align: right;\n",
       "    }\n",
       "</style>\n",
       "<table border=\"1\" class=\"dataframe\">\n",
       "  <thead>\n",
       "    <tr style=\"text-align: right;\">\n",
       "      <th></th>\n",
       "      <th>Id</th>\n",
       "      <th>description</th>\n",
       "      <th>medical_specialty</th>\n",
       "      <th>sample_name</th>\n",
       "      <th>transcription</th>\n",
       "      <th>medical_specs_encoded</th>\n",
       "    </tr>\n",
       "  </thead>\n",
       "  <tbody>\n",
       "    <tr>\n",
       "      <th>0</th>\n",
       "      <td>1</td>\n",
       "      <td>Patient had a recurrent left arm pain after h...</td>\n",
       "      <td>Cardiovascular / Pulmonary</td>\n",
       "      <td>Angina - Consult</td>\n",
       "      <td>HISTORY OF PRESENT ILLNESS: , The patient is a...</td>\n",
       "      <td>0</td>\n",
       "    </tr>\n",
       "    <tr>\n",
       "      <th>1</th>\n",
       "      <td>2</td>\n",
       "      <td>The patient is an 84-year-old female presente...</td>\n",
       "      <td>Cardiovascular / Pulmonary</td>\n",
       "      <td>Pericardial Effusion</td>\n",
       "      <td>REASON FOR CONSULTATION:,  Pericardial effusio...</td>\n",
       "      <td>0</td>\n",
       "    </tr>\n",
       "    <tr>\n",
       "      <th>3</th>\n",
       "      <td>4</td>\n",
       "      <td>Recurrent degenerative spondylolisthesis and ...</td>\n",
       "      <td>Surgery</td>\n",
       "      <td>Lumbar Re-exploration</td>\n",
       "      <td>PREOPERATIVE DIAGNOSIS: , Recurrent degenerati...</td>\n",
       "      <td>9</td>\n",
       "    </tr>\n",
       "    <tr>\n",
       "      <th>5</th>\n",
       "      <td>6</td>\n",
       "      <td>Patient with swelling of lips and dysphagia a...</td>\n",
       "      <td>General Medicine</td>\n",
       "      <td>Gen Med Consult - 5</td>\n",
       "      <td>CHIEF COMPLAINT: , Swelling of lips causing di...</td>\n",
       "      <td>4</td>\n",
       "    </tr>\n",
       "    <tr>\n",
       "      <th>6</th>\n",
       "      <td>7</td>\n",
       "      <td>Repeat irrigation and debridement of Right di...</td>\n",
       "      <td>Orthopedic</td>\n",
       "      <td>Subperiosteal Abscess Debridement</td>\n",
       "      <td>PREOPERATIVE DIAGNOSIS: , Right distal femoral...</td>\n",
       "      <td>6</td>\n",
       "    </tr>\n",
       "  </tbody>\n",
       "</table>\n",
       "</div>"
      ],
      "text/plain": [
       "   Id                                        description  \\\n",
       "0   1   Patient had a recurrent left arm pain after h...   \n",
       "1   2   The patient is an 84-year-old female presente...   \n",
       "3   4   Recurrent degenerative spondylolisthesis and ...   \n",
       "5   6   Patient with swelling of lips and dysphagia a...   \n",
       "6   7   Repeat irrigation and debridement of Right di...   \n",
       "\n",
       "             medical_specialty                          sample_name  \\\n",
       "0   Cardiovascular / Pulmonary                    Angina - Consult    \n",
       "1   Cardiovascular / Pulmonary                Pericardial Effusion    \n",
       "3                      Surgery               Lumbar Re-exploration    \n",
       "5             General Medicine                 Gen Med Consult - 5    \n",
       "6                   Orthopedic   Subperiosteal Abscess Debridement    \n",
       "\n",
       "                                       transcription  medical_specs_encoded  \n",
       "0  HISTORY OF PRESENT ILLNESS: , The patient is a...                      0  \n",
       "1  REASON FOR CONSULTATION:,  Pericardial effusio...                      0  \n",
       "3  PREOPERATIVE DIAGNOSIS: , Recurrent degenerati...                      9  \n",
       "5  CHIEF COMPLAINT: , Swelling of lips causing di...                      4  \n",
       "6  PREOPERATIVE DIAGNOSIS: , Right distal femoral...                      6  "
      ]
     },
     "execution_count": 18,
     "metadata": {},
     "output_type": "execute_result"
    }
   ],
   "source": [
    "encoder = LabelEncoder()\n",
    "df['medical_specs_encoded'] = encoder.fit_transform(df['medical_specialty'])\n",
    "df.head()"
   ]
  },
  {
   "cell_type": "markdown",
   "id": "135d773c",
   "metadata": {},
   "source": [
    "# Cleaning the text"
   ]
  },
  {
   "cell_type": "markdown",
   "id": "7d660212",
   "metadata": {},
   "source": [
    "## Lower case all text"
   ]
  },
  {
   "cell_type": "code",
   "execution_count": 19,
   "id": "51097e48",
   "metadata": {},
   "outputs": [],
   "source": [
    "import re"
   ]
  },
  {
   "cell_type": "code",
   "execution_count": 20,
   "id": "cb31e122",
   "metadata": {},
   "outputs": [
    {
     "data": {
      "text/html": [
       "<div>\n",
       "<style scoped>\n",
       "    .dataframe tbody tr th:only-of-type {\n",
       "        vertical-align: middle;\n",
       "    }\n",
       "\n",
       "    .dataframe tbody tr th {\n",
       "        vertical-align: top;\n",
       "    }\n",
       "\n",
       "    .dataframe thead th {\n",
       "        text-align: right;\n",
       "    }\n",
       "</style>\n",
       "<table border=\"1\" class=\"dataframe\">\n",
       "  <thead>\n",
       "    <tr style=\"text-align: right;\">\n",
       "      <th></th>\n",
       "      <th>Id</th>\n",
       "      <th>description</th>\n",
       "      <th>medical_specialty</th>\n",
       "      <th>sample_name</th>\n",
       "      <th>transcription</th>\n",
       "      <th>medical_specs_encoded</th>\n",
       "    </tr>\n",
       "  </thead>\n",
       "  <tbody>\n",
       "    <tr>\n",
       "      <th>0</th>\n",
       "      <td>1</td>\n",
       "      <td>Patient had a recurrent left arm pain after h...</td>\n",
       "      <td>Cardiovascular / Pulmonary</td>\n",
       "      <td>Angina - Consult</td>\n",
       "      <td>history of present illness: , the patient is a...</td>\n",
       "      <td>0</td>\n",
       "    </tr>\n",
       "    <tr>\n",
       "      <th>1</th>\n",
       "      <td>2</td>\n",
       "      <td>The patient is an 84-year-old female presente...</td>\n",
       "      <td>Cardiovascular / Pulmonary</td>\n",
       "      <td>Pericardial Effusion</td>\n",
       "      <td>reason for consultation:,  pericardial effusio...</td>\n",
       "      <td>0</td>\n",
       "    </tr>\n",
       "    <tr>\n",
       "      <th>3</th>\n",
       "      <td>4</td>\n",
       "      <td>Recurrent degenerative spondylolisthesis and ...</td>\n",
       "      <td>Surgery</td>\n",
       "      <td>Lumbar Re-exploration</td>\n",
       "      <td>preoperative diagnosis: , recurrent degenerati...</td>\n",
       "      <td>9</td>\n",
       "    </tr>\n",
       "    <tr>\n",
       "      <th>5</th>\n",
       "      <td>6</td>\n",
       "      <td>Patient with swelling of lips and dysphagia a...</td>\n",
       "      <td>General Medicine</td>\n",
       "      <td>Gen Med Consult - 5</td>\n",
       "      <td>chief complaint: , swelling of lips causing di...</td>\n",
       "      <td>4</td>\n",
       "    </tr>\n",
       "    <tr>\n",
       "      <th>6</th>\n",
       "      <td>7</td>\n",
       "      <td>Repeat irrigation and debridement of Right di...</td>\n",
       "      <td>Orthopedic</td>\n",
       "      <td>Subperiosteal Abscess Debridement</td>\n",
       "      <td>preoperative diagnosis: , right distal femoral...</td>\n",
       "      <td>6</td>\n",
       "    </tr>\n",
       "  </tbody>\n",
       "</table>\n",
       "</div>"
      ],
      "text/plain": [
       "   Id                                        description  \\\n",
       "0   1   Patient had a recurrent left arm pain after h...   \n",
       "1   2   The patient is an 84-year-old female presente...   \n",
       "3   4   Recurrent degenerative spondylolisthesis and ...   \n",
       "5   6   Patient with swelling of lips and dysphagia a...   \n",
       "6   7   Repeat irrigation and debridement of Right di...   \n",
       "\n",
       "             medical_specialty                          sample_name  \\\n",
       "0   Cardiovascular / Pulmonary                    Angina - Consult    \n",
       "1   Cardiovascular / Pulmonary                Pericardial Effusion    \n",
       "3                      Surgery               Lumbar Re-exploration    \n",
       "5             General Medicine                 Gen Med Consult - 5    \n",
       "6                   Orthopedic   Subperiosteal Abscess Debridement    \n",
       "\n",
       "                                       transcription  medical_specs_encoded  \n",
       "0  history of present illness: , the patient is a...                      0  \n",
       "1  reason for consultation:,  pericardial effusio...                      0  \n",
       "3  preoperative diagnosis: , recurrent degenerati...                      9  \n",
       "5  chief complaint: , swelling of lips causing di...                      4  \n",
       "6  preoperative diagnosis: , right distal femoral...                      6  "
      ]
     },
     "execution_count": 20,
     "metadata": {},
     "output_type": "execute_result"
    }
   ],
   "source": [
    "def lower(df, attribute):\n",
    "    df.loc[:,attribute] = df[attribute].apply(lambda x : str.lower(x))\n",
    "    return df\n",
    "df = lower(df,'transcription')\n",
    "df.head()"
   ]
  },
  {
   "cell_type": "code",
   "execution_count": 21,
   "id": "c970ea6f",
   "metadata": {},
   "outputs": [
    {
     "data": {
      "text/html": [
       "<div>\n",
       "<style scoped>\n",
       "    .dataframe tbody tr th:only-of-type {\n",
       "        vertical-align: middle;\n",
       "    }\n",
       "\n",
       "    .dataframe tbody tr th {\n",
       "        vertical-align: top;\n",
       "    }\n",
       "\n",
       "    .dataframe thead th {\n",
       "        text-align: right;\n",
       "    }\n",
       "</style>\n",
       "<table border=\"1\" class=\"dataframe\">\n",
       "  <thead>\n",
       "    <tr style=\"text-align: right;\">\n",
       "      <th></th>\n",
       "      <th>Id</th>\n",
       "      <th>description</th>\n",
       "      <th>medical_specialty</th>\n",
       "      <th>sample_name</th>\n",
       "      <th>transcription</th>\n",
       "      <th>medical_specs_encoded</th>\n",
       "    </tr>\n",
       "  </thead>\n",
       "  <tbody>\n",
       "    <tr>\n",
       "      <th>0</th>\n",
       "      <td>1</td>\n",
       "      <td>Patient had a recurrent left arm pain after h...</td>\n",
       "      <td>Cardiovascular / Pulmonary</td>\n",
       "      <td>angina - consult</td>\n",
       "      <td>history of present illness: , the patient is a...</td>\n",
       "      <td>0</td>\n",
       "    </tr>\n",
       "    <tr>\n",
       "      <th>1</th>\n",
       "      <td>2</td>\n",
       "      <td>The patient is an 84-year-old female presente...</td>\n",
       "      <td>Cardiovascular / Pulmonary</td>\n",
       "      <td>pericardial effusion</td>\n",
       "      <td>reason for consultation:,  pericardial effusio...</td>\n",
       "      <td>0</td>\n",
       "    </tr>\n",
       "    <tr>\n",
       "      <th>3</th>\n",
       "      <td>4</td>\n",
       "      <td>Recurrent degenerative spondylolisthesis and ...</td>\n",
       "      <td>Surgery</td>\n",
       "      <td>lumbar re-exploration</td>\n",
       "      <td>preoperative diagnosis: , recurrent degenerati...</td>\n",
       "      <td>9</td>\n",
       "    </tr>\n",
       "    <tr>\n",
       "      <th>5</th>\n",
       "      <td>6</td>\n",
       "      <td>Patient with swelling of lips and dysphagia a...</td>\n",
       "      <td>General Medicine</td>\n",
       "      <td>gen med consult - 5</td>\n",
       "      <td>chief complaint: , swelling of lips causing di...</td>\n",
       "      <td>4</td>\n",
       "    </tr>\n",
       "    <tr>\n",
       "      <th>6</th>\n",
       "      <td>7</td>\n",
       "      <td>Repeat irrigation and debridement of Right di...</td>\n",
       "      <td>Orthopedic</td>\n",
       "      <td>subperiosteal abscess debridement</td>\n",
       "      <td>preoperative diagnosis: , right distal femoral...</td>\n",
       "      <td>6</td>\n",
       "    </tr>\n",
       "  </tbody>\n",
       "</table>\n",
       "</div>"
      ],
      "text/plain": [
       "   Id                                        description  \\\n",
       "0   1   Patient had a recurrent left arm pain after h...   \n",
       "1   2   The patient is an 84-year-old female presente...   \n",
       "3   4   Recurrent degenerative spondylolisthesis and ...   \n",
       "5   6   Patient with swelling of lips and dysphagia a...   \n",
       "6   7   Repeat irrigation and debridement of Right di...   \n",
       "\n",
       "             medical_specialty                          sample_name  \\\n",
       "0   Cardiovascular / Pulmonary                    angina - consult    \n",
       "1   Cardiovascular / Pulmonary                pericardial effusion    \n",
       "3                      Surgery               lumbar re-exploration    \n",
       "5             General Medicine                 gen med consult - 5    \n",
       "6                   Orthopedic   subperiosteal abscess debridement    \n",
       "\n",
       "                                       transcription  medical_specs_encoded  \n",
       "0  history of present illness: , the patient is a...                      0  \n",
       "1  reason for consultation:,  pericardial effusio...                      0  \n",
       "3  preoperative diagnosis: , recurrent degenerati...                      9  \n",
       "5  chief complaint: , swelling of lips causing di...                      4  \n",
       "6  preoperative diagnosis: , right distal femoral...                      6  "
      ]
     },
     "execution_count": 21,
     "metadata": {},
     "output_type": "execute_result"
    }
   ],
   "source": [
    "def lower(df, attribute):\n",
    "    df.loc[:,attribute] = df[attribute].apply(lambda x : str.lower(x))\n",
    "    return df\n",
    "df = lower(df,'sample_name')\n",
    "df.head()"
   ]
  },
  {
   "cell_type": "code",
   "execution_count": 22,
   "id": "7867818a",
   "metadata": {},
   "outputs": [
    {
     "data": {
      "text/html": [
       "<div>\n",
       "<style scoped>\n",
       "    .dataframe tbody tr th:only-of-type {\n",
       "        vertical-align: middle;\n",
       "    }\n",
       "\n",
       "    .dataframe tbody tr th {\n",
       "        vertical-align: top;\n",
       "    }\n",
       "\n",
       "    .dataframe thead th {\n",
       "        text-align: right;\n",
       "    }\n",
       "</style>\n",
       "<table border=\"1\" class=\"dataframe\">\n",
       "  <thead>\n",
       "    <tr style=\"text-align: right;\">\n",
       "      <th></th>\n",
       "      <th>Id</th>\n",
       "      <th>description</th>\n",
       "      <th>medical_specialty</th>\n",
       "      <th>sample_name</th>\n",
       "      <th>transcription</th>\n",
       "      <th>medical_specs_encoded</th>\n",
       "    </tr>\n",
       "  </thead>\n",
       "  <tbody>\n",
       "    <tr>\n",
       "      <th>0</th>\n",
       "      <td>1</td>\n",
       "      <td>patient had a recurrent left arm pain after h...</td>\n",
       "      <td>Cardiovascular / Pulmonary</td>\n",
       "      <td>angina - consult</td>\n",
       "      <td>history of present illness: , the patient is a...</td>\n",
       "      <td>0</td>\n",
       "    </tr>\n",
       "    <tr>\n",
       "      <th>1</th>\n",
       "      <td>2</td>\n",
       "      <td>the patient is an 84-year-old female presente...</td>\n",
       "      <td>Cardiovascular / Pulmonary</td>\n",
       "      <td>pericardial effusion</td>\n",
       "      <td>reason for consultation:,  pericardial effusio...</td>\n",
       "      <td>0</td>\n",
       "    </tr>\n",
       "    <tr>\n",
       "      <th>3</th>\n",
       "      <td>4</td>\n",
       "      <td>recurrent degenerative spondylolisthesis and ...</td>\n",
       "      <td>Surgery</td>\n",
       "      <td>lumbar re-exploration</td>\n",
       "      <td>preoperative diagnosis: , recurrent degenerati...</td>\n",
       "      <td>9</td>\n",
       "    </tr>\n",
       "    <tr>\n",
       "      <th>5</th>\n",
       "      <td>6</td>\n",
       "      <td>patient with swelling of lips and dysphagia a...</td>\n",
       "      <td>General Medicine</td>\n",
       "      <td>gen med consult - 5</td>\n",
       "      <td>chief complaint: , swelling of lips causing di...</td>\n",
       "      <td>4</td>\n",
       "    </tr>\n",
       "    <tr>\n",
       "      <th>6</th>\n",
       "      <td>7</td>\n",
       "      <td>repeat irrigation and debridement of right di...</td>\n",
       "      <td>Orthopedic</td>\n",
       "      <td>subperiosteal abscess debridement</td>\n",
       "      <td>preoperative diagnosis: , right distal femoral...</td>\n",
       "      <td>6</td>\n",
       "    </tr>\n",
       "  </tbody>\n",
       "</table>\n",
       "</div>"
      ],
      "text/plain": [
       "   Id                                        description  \\\n",
       "0   1   patient had a recurrent left arm pain after h...   \n",
       "1   2   the patient is an 84-year-old female presente...   \n",
       "3   4   recurrent degenerative spondylolisthesis and ...   \n",
       "5   6   patient with swelling of lips and dysphagia a...   \n",
       "6   7   repeat irrigation and debridement of right di...   \n",
       "\n",
       "             medical_specialty                          sample_name  \\\n",
       "0   Cardiovascular / Pulmonary                    angina - consult    \n",
       "1   Cardiovascular / Pulmonary                pericardial effusion    \n",
       "3                      Surgery               lumbar re-exploration    \n",
       "5             General Medicine                 gen med consult - 5    \n",
       "6                   Orthopedic   subperiosteal abscess debridement    \n",
       "\n",
       "                                       transcription  medical_specs_encoded  \n",
       "0  history of present illness: , the patient is a...                      0  \n",
       "1  reason for consultation:,  pericardial effusio...                      0  \n",
       "3  preoperative diagnosis: , recurrent degenerati...                      9  \n",
       "5  chief complaint: , swelling of lips causing di...                      4  \n",
       "6  preoperative diagnosis: , right distal femoral...                      6  "
      ]
     },
     "execution_count": 22,
     "metadata": {},
     "output_type": "execute_result"
    }
   ],
   "source": [
    "def lower(df, attribute):\n",
    "    df.loc[:,attribute] = df[attribute].apply(lambda x : str.lower(x))\n",
    "    return df\n",
    "df = lower(df,'description')\n",
    "df.head()"
   ]
  },
  {
   "cell_type": "markdown",
   "id": "f5ba4a51",
   "metadata": {},
   "source": [
    "# Removing Special Characters"
   ]
  },
  {
   "cell_type": "code",
   "execution_count": 23,
   "id": "4896da7e",
   "metadata": {
    "scrolled": true
   },
   "outputs": [
    {
     "data": {
      "text/html": [
       "<div>\n",
       "<style scoped>\n",
       "    .dataframe tbody tr th:only-of-type {\n",
       "        vertical-align: middle;\n",
       "    }\n",
       "\n",
       "    .dataframe tbody tr th {\n",
       "        vertical-align: top;\n",
       "    }\n",
       "\n",
       "    .dataframe thead th {\n",
       "        text-align: right;\n",
       "    }\n",
       "</style>\n",
       "<table border=\"1\" class=\"dataframe\">\n",
       "  <thead>\n",
       "    <tr style=\"text-align: right;\">\n",
       "      <th></th>\n",
       "      <th>Id</th>\n",
       "      <th>description</th>\n",
       "      <th>medical_specialty</th>\n",
       "      <th>sample_name</th>\n",
       "      <th>transcription</th>\n",
       "      <th>medical_specs_encoded</th>\n",
       "    </tr>\n",
       "  </thead>\n",
       "  <tbody>\n",
       "    <tr>\n",
       "      <th>0</th>\n",
       "      <td>1</td>\n",
       "      <td>patient had a recurrent left arm pain after h...</td>\n",
       "      <td>Cardiovascular / Pulmonary</td>\n",
       "      <td>angina - consult</td>\n",
       "      <td>history of present illness  the patient is a 6...</td>\n",
       "      <td>0</td>\n",
       "    </tr>\n",
       "    <tr>\n",
       "      <th>1</th>\n",
       "      <td>2</td>\n",
       "      <td>the patient is an 84-year-old female presente...</td>\n",
       "      <td>Cardiovascular / Pulmonary</td>\n",
       "      <td>pericardial effusion</td>\n",
       "      <td>reason for consultation  pericardial effusionh...</td>\n",
       "      <td>0</td>\n",
       "    </tr>\n",
       "    <tr>\n",
       "      <th>3</th>\n",
       "      <td>4</td>\n",
       "      <td>recurrent degenerative spondylolisthesis and ...</td>\n",
       "      <td>Surgery</td>\n",
       "      <td>lumbar re-exploration</td>\n",
       "      <td>preoperative diagnosis  recurrent degenerative...</td>\n",
       "      <td>9</td>\n",
       "    </tr>\n",
       "    <tr>\n",
       "      <th>5</th>\n",
       "      <td>6</td>\n",
       "      <td>patient with swelling of lips and dysphagia a...</td>\n",
       "      <td>General Medicine</td>\n",
       "      <td>gen med consult - 5</td>\n",
       "      <td>chief complaint  swelling of lips causing diff...</td>\n",
       "      <td>4</td>\n",
       "    </tr>\n",
       "    <tr>\n",
       "      <th>6</th>\n",
       "      <td>7</td>\n",
       "      <td>repeat irrigation and debridement of right di...</td>\n",
       "      <td>Orthopedic</td>\n",
       "      <td>subperiosteal abscess debridement</td>\n",
       "      <td>preoperative diagnosis  right distal femoral s...</td>\n",
       "      <td>6</td>\n",
       "    </tr>\n",
       "  </tbody>\n",
       "</table>\n",
       "</div>"
      ],
      "text/plain": [
       "   Id                                        description  \\\n",
       "0   1   patient had a recurrent left arm pain after h...   \n",
       "1   2   the patient is an 84-year-old female presente...   \n",
       "3   4   recurrent degenerative spondylolisthesis and ...   \n",
       "5   6   patient with swelling of lips and dysphagia a...   \n",
       "6   7   repeat irrigation and debridement of right di...   \n",
       "\n",
       "             medical_specialty                          sample_name  \\\n",
       "0   Cardiovascular / Pulmonary                    angina - consult    \n",
       "1   Cardiovascular / Pulmonary                pericardial effusion    \n",
       "3                      Surgery               lumbar re-exploration    \n",
       "5             General Medicine                 gen med consult - 5    \n",
       "6                   Orthopedic   subperiosteal abscess debridement    \n",
       "\n",
       "                                       transcription  medical_specs_encoded  \n",
       "0  history of present illness  the patient is a 6...                      0  \n",
       "1  reason for consultation  pericardial effusionh...                      0  \n",
       "3  preoperative diagnosis  recurrent degenerative...                      9  \n",
       "5  chief complaint  swelling of lips causing diff...                      4  \n",
       "6  preoperative diagnosis  right distal femoral s...                      6  "
      ]
     },
     "execution_count": 23,
     "metadata": {},
     "output_type": "execute_result"
    }
   ],
   "source": [
    "def remove_special_characters(text):\n",
    "    pattern=r'[^a-zA-z0-9\\s]'\n",
    "    text=re.sub(pattern,'',text)\n",
    "    return text\n",
    "df['transcription']=df['transcription'].apply(remove_special_characters)\n",
    "df.head()"
   ]
  },
  {
   "cell_type": "code",
   "execution_count": 24,
   "id": "f87084ce",
   "metadata": {},
   "outputs": [
    {
     "data": {
      "text/html": [
       "<div>\n",
       "<style scoped>\n",
       "    .dataframe tbody tr th:only-of-type {\n",
       "        vertical-align: middle;\n",
       "    }\n",
       "\n",
       "    .dataframe tbody tr th {\n",
       "        vertical-align: top;\n",
       "    }\n",
       "\n",
       "    .dataframe thead th {\n",
       "        text-align: right;\n",
       "    }\n",
       "</style>\n",
       "<table border=\"1\" class=\"dataframe\">\n",
       "  <thead>\n",
       "    <tr style=\"text-align: right;\">\n",
       "      <th></th>\n",
       "      <th>Id</th>\n",
       "      <th>description</th>\n",
       "      <th>medical_specialty</th>\n",
       "      <th>sample_name</th>\n",
       "      <th>transcription</th>\n",
       "      <th>medical_specs_encoded</th>\n",
       "    </tr>\n",
       "  </thead>\n",
       "  <tbody>\n",
       "    <tr>\n",
       "      <th>0</th>\n",
       "      <td>1</td>\n",
       "      <td>patient had a recurrent left arm pain after h...</td>\n",
       "      <td>Cardiovascular / Pulmonary</td>\n",
       "      <td>angina  consult</td>\n",
       "      <td>history of present illness  the patient is a 6...</td>\n",
       "      <td>0</td>\n",
       "    </tr>\n",
       "    <tr>\n",
       "      <th>1</th>\n",
       "      <td>2</td>\n",
       "      <td>the patient is an 84-year-old female presente...</td>\n",
       "      <td>Cardiovascular / Pulmonary</td>\n",
       "      <td>pericardial effusion</td>\n",
       "      <td>reason for consultation  pericardial effusionh...</td>\n",
       "      <td>0</td>\n",
       "    </tr>\n",
       "    <tr>\n",
       "      <th>3</th>\n",
       "      <td>4</td>\n",
       "      <td>recurrent degenerative spondylolisthesis and ...</td>\n",
       "      <td>Surgery</td>\n",
       "      <td>lumbar reexploration</td>\n",
       "      <td>preoperative diagnosis  recurrent degenerative...</td>\n",
       "      <td>9</td>\n",
       "    </tr>\n",
       "    <tr>\n",
       "      <th>5</th>\n",
       "      <td>6</td>\n",
       "      <td>patient with swelling of lips and dysphagia a...</td>\n",
       "      <td>General Medicine</td>\n",
       "      <td>gen med consult  5</td>\n",
       "      <td>chief complaint  swelling of lips causing diff...</td>\n",
       "      <td>4</td>\n",
       "    </tr>\n",
       "    <tr>\n",
       "      <th>6</th>\n",
       "      <td>7</td>\n",
       "      <td>repeat irrigation and debridement of right di...</td>\n",
       "      <td>Orthopedic</td>\n",
       "      <td>subperiosteal abscess debridement</td>\n",
       "      <td>preoperative diagnosis  right distal femoral s...</td>\n",
       "      <td>6</td>\n",
       "    </tr>\n",
       "  </tbody>\n",
       "</table>\n",
       "</div>"
      ],
      "text/plain": [
       "   Id                                        description  \\\n",
       "0   1   patient had a recurrent left arm pain after h...   \n",
       "1   2   the patient is an 84-year-old female presente...   \n",
       "3   4   recurrent degenerative spondylolisthesis and ...   \n",
       "5   6   patient with swelling of lips and dysphagia a...   \n",
       "6   7   repeat irrigation and debridement of right di...   \n",
       "\n",
       "             medical_specialty                          sample_name  \\\n",
       "0   Cardiovascular / Pulmonary                     angina  consult    \n",
       "1   Cardiovascular / Pulmonary                pericardial effusion    \n",
       "3                      Surgery                lumbar reexploration    \n",
       "5             General Medicine                  gen med consult  5    \n",
       "6                   Orthopedic   subperiosteal abscess debridement    \n",
       "\n",
       "                                       transcription  medical_specs_encoded  \n",
       "0  history of present illness  the patient is a 6...                      0  \n",
       "1  reason for consultation  pericardial effusionh...                      0  \n",
       "3  preoperative diagnosis  recurrent degenerative...                      9  \n",
       "5  chief complaint  swelling of lips causing diff...                      4  \n",
       "6  preoperative diagnosis  right distal femoral s...                      6  "
      ]
     },
     "execution_count": 24,
     "metadata": {},
     "output_type": "execute_result"
    }
   ],
   "source": [
    "def remove_special_characters(text):\n",
    "    pattern=r'[^a-zA-z0-9\\s]'\n",
    "    text=re.sub(pattern,'',text)\n",
    "    return text\n",
    "df['sample_name']=df['sample_name'].apply(remove_special_characters)\n",
    "df.head()"
   ]
  },
  {
   "cell_type": "code",
   "execution_count": 25,
   "id": "6a7dcb88",
   "metadata": {},
   "outputs": [
    {
     "data": {
      "text/html": [
       "<div>\n",
       "<style scoped>\n",
       "    .dataframe tbody tr th:only-of-type {\n",
       "        vertical-align: middle;\n",
       "    }\n",
       "\n",
       "    .dataframe tbody tr th {\n",
       "        vertical-align: top;\n",
       "    }\n",
       "\n",
       "    .dataframe thead th {\n",
       "        text-align: right;\n",
       "    }\n",
       "</style>\n",
       "<table border=\"1\" class=\"dataframe\">\n",
       "  <thead>\n",
       "    <tr style=\"text-align: right;\">\n",
       "      <th></th>\n",
       "      <th>Id</th>\n",
       "      <th>description</th>\n",
       "      <th>medical_specialty</th>\n",
       "      <th>sample_name</th>\n",
       "      <th>transcription</th>\n",
       "      <th>medical_specs_encoded</th>\n",
       "    </tr>\n",
       "  </thead>\n",
       "  <tbody>\n",
       "    <tr>\n",
       "      <th>0</th>\n",
       "      <td>1</td>\n",
       "      <td>patient had a recurrent left arm pain after h...</td>\n",
       "      <td>Cardiovascular / Pulmonary</td>\n",
       "      <td>angina  consult</td>\n",
       "      <td>history of present illness  the patient is a 6...</td>\n",
       "      <td>0</td>\n",
       "    </tr>\n",
       "    <tr>\n",
       "      <th>1</th>\n",
       "      <td>2</td>\n",
       "      <td>the patient is an 84yearold female presented ...</td>\n",
       "      <td>Cardiovascular / Pulmonary</td>\n",
       "      <td>pericardial effusion</td>\n",
       "      <td>reason for consultation  pericardial effusionh...</td>\n",
       "      <td>0</td>\n",
       "    </tr>\n",
       "    <tr>\n",
       "      <th>3</th>\n",
       "      <td>4</td>\n",
       "      <td>recurrent degenerative spondylolisthesis and ...</td>\n",
       "      <td>Surgery</td>\n",
       "      <td>lumbar reexploration</td>\n",
       "      <td>preoperative diagnosis  recurrent degenerative...</td>\n",
       "      <td>9</td>\n",
       "    </tr>\n",
       "    <tr>\n",
       "      <th>5</th>\n",
       "      <td>6</td>\n",
       "      <td>patient with swelling of lips and dysphagia a...</td>\n",
       "      <td>General Medicine</td>\n",
       "      <td>gen med consult  5</td>\n",
       "      <td>chief complaint  swelling of lips causing diff...</td>\n",
       "      <td>4</td>\n",
       "    </tr>\n",
       "    <tr>\n",
       "      <th>6</th>\n",
       "      <td>7</td>\n",
       "      <td>repeat irrigation and debridement of right di...</td>\n",
       "      <td>Orthopedic</td>\n",
       "      <td>subperiosteal abscess debridement</td>\n",
       "      <td>preoperative diagnosis  right distal femoral s...</td>\n",
       "      <td>6</td>\n",
       "    </tr>\n",
       "  </tbody>\n",
       "</table>\n",
       "</div>"
      ],
      "text/plain": [
       "   Id                                        description  \\\n",
       "0   1   patient had a recurrent left arm pain after h...   \n",
       "1   2   the patient is an 84yearold female presented ...   \n",
       "3   4   recurrent degenerative spondylolisthesis and ...   \n",
       "5   6   patient with swelling of lips and dysphagia a...   \n",
       "6   7   repeat irrigation and debridement of right di...   \n",
       "\n",
       "             medical_specialty                          sample_name  \\\n",
       "0   Cardiovascular / Pulmonary                     angina  consult    \n",
       "1   Cardiovascular / Pulmonary                pericardial effusion    \n",
       "3                      Surgery                lumbar reexploration    \n",
       "5             General Medicine                  gen med consult  5    \n",
       "6                   Orthopedic   subperiosteal abscess debridement    \n",
       "\n",
       "                                       transcription  medical_specs_encoded  \n",
       "0  history of present illness  the patient is a 6...                      0  \n",
       "1  reason for consultation  pericardial effusionh...                      0  \n",
       "3  preoperative diagnosis  recurrent degenerative...                      9  \n",
       "5  chief complaint  swelling of lips causing diff...                      4  \n",
       "6  preoperative diagnosis  right distal femoral s...                      6  "
      ]
     },
     "execution_count": 25,
     "metadata": {},
     "output_type": "execute_result"
    }
   ],
   "source": [
    "def remove_special_characters(text):\n",
    "    pattern=r'[^a-zA-z0-9\\s]'\n",
    "    text=re.sub(pattern,'',text)\n",
    "    return text\n",
    "df['description']=df['description'].apply(remove_special_characters)\n",
    "df.head()"
   ]
  },
  {
   "cell_type": "code",
   "execution_count": 26,
   "id": "82a66ca7",
   "metadata": {},
   "outputs": [
    {
     "data": {
      "text/html": [
       "<div>\n",
       "<style scoped>\n",
       "    .dataframe tbody tr th:only-of-type {\n",
       "        vertical-align: middle;\n",
       "    }\n",
       "\n",
       "    .dataframe tbody tr th {\n",
       "        vertical-align: top;\n",
       "    }\n",
       "\n",
       "    .dataframe thead th {\n",
       "        text-align: right;\n",
       "    }\n",
       "</style>\n",
       "<table border=\"1\" class=\"dataframe\">\n",
       "  <thead>\n",
       "    <tr style=\"text-align: right;\">\n",
       "      <th></th>\n",
       "      <th>Id</th>\n",
       "      <th>description</th>\n",
       "      <th>medical_specialty</th>\n",
       "      <th>sample_name</th>\n",
       "      <th>transcription</th>\n",
       "      <th>medical_specs_encoded</th>\n",
       "    </tr>\n",
       "  </thead>\n",
       "  <tbody>\n",
       "    <tr>\n",
       "      <th>0</th>\n",
       "      <td>1</td>\n",
       "      <td>patient had a recurrent left arm pain after h...</td>\n",
       "      <td>Cardiovascular  Pulmonary</td>\n",
       "      <td>angina  consult</td>\n",
       "      <td>history of present illness  the patient is a 6...</td>\n",
       "      <td>0</td>\n",
       "    </tr>\n",
       "    <tr>\n",
       "      <th>1</th>\n",
       "      <td>2</td>\n",
       "      <td>the patient is an 84yearold female presented ...</td>\n",
       "      <td>Cardiovascular  Pulmonary</td>\n",
       "      <td>pericardial effusion</td>\n",
       "      <td>reason for consultation  pericardial effusionh...</td>\n",
       "      <td>0</td>\n",
       "    </tr>\n",
       "    <tr>\n",
       "      <th>3</th>\n",
       "      <td>4</td>\n",
       "      <td>recurrent degenerative spondylolisthesis and ...</td>\n",
       "      <td>Surgery</td>\n",
       "      <td>lumbar reexploration</td>\n",
       "      <td>preoperative diagnosis  recurrent degenerative...</td>\n",
       "      <td>9</td>\n",
       "    </tr>\n",
       "    <tr>\n",
       "      <th>5</th>\n",
       "      <td>6</td>\n",
       "      <td>patient with swelling of lips and dysphagia a...</td>\n",
       "      <td>General Medicine</td>\n",
       "      <td>gen med consult  5</td>\n",
       "      <td>chief complaint  swelling of lips causing diff...</td>\n",
       "      <td>4</td>\n",
       "    </tr>\n",
       "    <tr>\n",
       "      <th>6</th>\n",
       "      <td>7</td>\n",
       "      <td>repeat irrigation and debridement of right di...</td>\n",
       "      <td>Orthopedic</td>\n",
       "      <td>subperiosteal abscess debridement</td>\n",
       "      <td>preoperative diagnosis  right distal femoral s...</td>\n",
       "      <td>6</td>\n",
       "    </tr>\n",
       "  </tbody>\n",
       "</table>\n",
       "</div>"
      ],
      "text/plain": [
       "   Id                                        description  \\\n",
       "0   1   patient had a recurrent left arm pain after h...   \n",
       "1   2   the patient is an 84yearold female presented ...   \n",
       "3   4   recurrent degenerative spondylolisthesis and ...   \n",
       "5   6   patient with swelling of lips and dysphagia a...   \n",
       "6   7   repeat irrigation and debridement of right di...   \n",
       "\n",
       "            medical_specialty                          sample_name  \\\n",
       "0   Cardiovascular  Pulmonary                     angina  consult    \n",
       "1   Cardiovascular  Pulmonary                pericardial effusion    \n",
       "3                     Surgery                lumbar reexploration    \n",
       "5            General Medicine                  gen med consult  5    \n",
       "6                  Orthopedic   subperiosteal abscess debridement    \n",
       "\n",
       "                                       transcription  medical_specs_encoded  \n",
       "0  history of present illness  the patient is a 6...                      0  \n",
       "1  reason for consultation  pericardial effusionh...                      0  \n",
       "3  preoperative diagnosis  recurrent degenerative...                      9  \n",
       "5  chief complaint  swelling of lips causing diff...                      4  \n",
       "6  preoperative diagnosis  right distal femoral s...                      6  "
      ]
     },
     "execution_count": 26,
     "metadata": {},
     "output_type": "execute_result"
    }
   ],
   "source": [
    "def remove_special_characters(text):\n",
    "    pattern=r'[^a-zA-z0-9\\s]'\n",
    "    text=re.sub(pattern,'',text)\n",
    "    return text\n",
    "df['medical_specialty']=df['medical_specialty'].apply(remove_special_characters)\n",
    "df.head()"
   ]
  },
  {
   "cell_type": "markdown",
   "id": "66b23108",
   "metadata": {},
   "source": [
    "# Lemmatization"
   ]
  },
  {
   "cell_type": "code",
   "execution_count": 27,
   "id": "4ba0b4d9",
   "metadata": {},
   "outputs": [
    {
     "name": "stderr",
     "output_type": "stream",
     "text": [
      "[nltk_data] Downloading package stopwords to C:\\Users\\Mohmad\n",
      "[nltk_data]     Adil\\AppData\\Roaming\\nltk_data...\n",
      "[nltk_data]   Package stopwords is already up-to-date!\n"
     ]
    },
    {
     "data": {
      "text/plain": [
       "True"
      ]
     },
     "execution_count": 27,
     "metadata": {},
     "output_type": "execute_result"
    }
   ],
   "source": [
    "import nltk\n",
    "nltk.download('stopwords')"
   ]
  },
  {
   "cell_type": "code",
   "execution_count": 28,
   "id": "a6416906",
   "metadata": {},
   "outputs": [
    {
     "name": "stderr",
     "output_type": "stream",
     "text": [
      "[nltk_data] Downloading package stopwords to C:\\Users\\Mohmad\n",
      "[nltk_data]     Adil\\AppData\\Roaming\\nltk_data...\n",
      "[nltk_data]   Package stopwords is already up-to-date!\n"
     ]
    }
   ],
   "source": [
    "nltk.download('stopwords')\n",
    "stopword_list=nltk.corpus.stopwords.words('english')\n",
    "def remove_stopwords(text):\n",
    "    tokens = text.split(' ')\n",
    "    filtered_tokens = [token for token in tokens if token.lower() not in stopword_list]\n",
    "    filtered_text = ' '.join(filtered_tokens)    \n",
    "    return filtered_text\n",
    "df['transcription']=df['transcription'].apply(remove_stopwords)"
   ]
  },
  {
   "cell_type": "code",
   "execution_count": 29,
   "id": "ef7019ed",
   "metadata": {},
   "outputs": [
    {
     "name": "stderr",
     "output_type": "stream",
     "text": [
      "[nltk_data] Downloading package stopwords to C:\\Users\\Mohmad\n",
      "[nltk_data]     Adil\\AppData\\Roaming\\nltk_data...\n",
      "[nltk_data]   Package stopwords is already up-to-date!\n"
     ]
    }
   ],
   "source": [
    "nltk.download('stopwords')\n",
    "stopword_list=nltk.corpus.stopwords.words('english')\n",
    "def remove_stopwords(text):\n",
    "    tokens = text.split(' ')\n",
    "    filtered_tokens = [token for token in tokens if token.lower() not in stopword_list]\n",
    "    filtered_text = ' '.join(filtered_tokens)    \n",
    "    return filtered_text\n",
    "df['description']=df['description'].apply(remove_stopwords)"
   ]
  },
  {
   "cell_type": "code",
   "execution_count": 30,
   "id": "aff77537",
   "metadata": {},
   "outputs": [
    {
     "data": {
      "text/html": [
       "<div>\n",
       "<style scoped>\n",
       "    .dataframe tbody tr th:only-of-type {\n",
       "        vertical-align: middle;\n",
       "    }\n",
       "\n",
       "    .dataframe tbody tr th {\n",
       "        vertical-align: top;\n",
       "    }\n",
       "\n",
       "    .dataframe thead th {\n",
       "        text-align: right;\n",
       "    }\n",
       "</style>\n",
       "<table border=\"1\" class=\"dataframe\">\n",
       "  <thead>\n",
       "    <tr style=\"text-align: right;\">\n",
       "      <th></th>\n",
       "      <th>Id</th>\n",
       "      <th>description</th>\n",
       "      <th>medical_specialty</th>\n",
       "      <th>sample_name</th>\n",
       "      <th>transcription</th>\n",
       "      <th>medical_specs_encoded</th>\n",
       "    </tr>\n",
       "  </thead>\n",
       "  <tbody>\n",
       "    <tr>\n",
       "      <th>0</th>\n",
       "      <td>1</td>\n",
       "      <td>patient recurrent left arm pain stent three d...</td>\n",
       "      <td>Cardiovascular  Pulmonary</td>\n",
       "      <td>angina  consult</td>\n",
       "      <td>history present illness  patient 68yearold wom...</td>\n",
       "      <td>0</td>\n",
       "    </tr>\n",
       "    <tr>\n",
       "      <th>1</th>\n",
       "      <td>2</td>\n",
       "      <td>patient 84yearold female presented emergency ...</td>\n",
       "      <td>Cardiovascular  Pulmonary</td>\n",
       "      <td>pericardial effusion</td>\n",
       "      <td>reason consultation  pericardial effusionhisto...</td>\n",
       "      <td>0</td>\n",
       "    </tr>\n",
       "    <tr>\n",
       "      <th>3</th>\n",
       "      <td>4</td>\n",
       "      <td>recurrent degenerative spondylolisthesis sten...</td>\n",
       "      <td>Surgery</td>\n",
       "      <td>lumbar reexploration</td>\n",
       "      <td>preoperative diagnosis  recurrent degenerative...</td>\n",
       "      <td>9</td>\n",
       "    </tr>\n",
       "    <tr>\n",
       "      <th>5</th>\n",
       "      <td>6</td>\n",
       "      <td>patient swelling lips dysphagia arthritis</td>\n",
       "      <td>General Medicine</td>\n",
       "      <td>gen med consult  5</td>\n",
       "      <td>chief complaint  swelling lips causing difficu...</td>\n",
       "      <td>4</td>\n",
       "    </tr>\n",
       "    <tr>\n",
       "      <th>6</th>\n",
       "      <td>7</td>\n",
       "      <td>repeat irrigation debridement right distal fe...</td>\n",
       "      <td>Orthopedic</td>\n",
       "      <td>subperiosteal abscess debridement</td>\n",
       "      <td>preoperative diagnosis  right distal femoral s...</td>\n",
       "      <td>6</td>\n",
       "    </tr>\n",
       "  </tbody>\n",
       "</table>\n",
       "</div>"
      ],
      "text/plain": [
       "   Id                                        description  \\\n",
       "0   1   patient recurrent left arm pain stent three d...   \n",
       "1   2   patient 84yearold female presented emergency ...   \n",
       "3   4   recurrent degenerative spondylolisthesis sten...   \n",
       "5   6          patient swelling lips dysphagia arthritis   \n",
       "6   7   repeat irrigation debridement right distal fe...   \n",
       "\n",
       "            medical_specialty                          sample_name  \\\n",
       "0   Cardiovascular  Pulmonary                     angina  consult    \n",
       "1   Cardiovascular  Pulmonary                pericardial effusion    \n",
       "3                     Surgery                lumbar reexploration    \n",
       "5            General Medicine                  gen med consult  5    \n",
       "6                  Orthopedic   subperiosteal abscess debridement    \n",
       "\n",
       "                                       transcription  medical_specs_encoded  \n",
       "0  history present illness  patient 68yearold wom...                      0  \n",
       "1  reason consultation  pericardial effusionhisto...                      0  \n",
       "3  preoperative diagnosis  recurrent degenerative...                      9  \n",
       "5  chief complaint  swelling lips causing difficu...                      4  \n",
       "6  preoperative diagnosis  right distal femoral s...                      6  "
      ]
     },
     "execution_count": 30,
     "metadata": {},
     "output_type": "execute_result"
    }
   ],
   "source": [
    "df.head()"
   ]
  },
  {
   "cell_type": "code",
   "execution_count": 31,
   "id": "05b3fbd5",
   "metadata": {
    "scrolled": true
   },
   "outputs": [
    {
     "data": {
      "text/plain": [
       "'history present illness  patient 68yearold woman following angina  case today called recurrent left arm pain stent three days ago persisted two sublingual nitroglycerin spoke  advised call 911  waiting 911 attended physician neighbor advised take third nitroglycerin apparently relieved pain  time presented currently painfree feeling wellpast cardiac history  patient arm pain several months  underwent exercise stress echocardiogram within last several months equivocal nuclear stress test showed inferobasilar ischemia  originally advised heart catheterization wanted medical therapy put betablocker  however arm pain symptoms accelerated jaw pain presented emergency room  081608 ended cardiac catheterization showed normal left main 80  mid lad lesion circumflex normal rca totally occluded mid portion collaterals left right well right right area  decision made transfer  may collateral insufficiency lad stenosis rca vessel  underwent drugeluting stents 081608 believe three four total placed discharged 081708  left arm discomfort 081808 mild  yesterday felt fatigued arm pain today arm pain walking resolved completely three sublingual nitroglycerin  usual angina  admitted unstable angina post stentpast medical history  longstanding hypertension cad hyperlipidemia overactive bladdermedications1  detrol la 2 mg day2  prilosec gerd 20 mg day3  glucosamine 500400 mg day arthritis4  multivitamin po daily5  nitroglycerin sublingual available her6  toprolxl 25 mg day started although bradycardic seems tolerating7  aspirin 325 mg day8  plavix 75 mg day9  diovan 160 mg day10  claritin 10 mg day allergic rhinitis11  norvasc 5 mg day12  lipitor 5 mg day13  evista 60 mg dayallergies  allergies medications none  denies shrimp sea food allergyfamily history  father died mi 50s brother first mi bypass surgery 54social history  smoke cigarettes abuse alcohol use illicit drugs  divorced lives alone retired laboratory technician cornell diagnostic laboratoryreview systems  denies history stroke cancer vomiting blood coughing blood bright red blood per rectum bleeding stomach ulcers renal calculi cholelithiasis asthma emphysema pneumonia tuberculosis home oxygen use sleep apnea although told past snores question apnea 0508  morning headaches fatigue  psychiatric diagnosis  psoriasis lupus  remainder review systems negative x14 systems except described abovephysical examinationgeneral  pleasant elderly woman currently acute distressvital signs  height 4 feet 11 inches weight 128 pounds temperature 972 degrees fahrenheit blood pressure 14270 pulse 47  respiratory rate 16 o2 saturation 100heent  cranium normocephalic atraumatic  moist mucosal membranesneck  veins distended  carotid bruitslungs  clear auscultation percussion without wheezesheart  s1 s2 regular rate  significant murmurs rubs gallops  pmi nondisplacedabdomen  soft nondistended  bowel sounds presentextremities  without significant clubbing cyanosis edema  pulses grossly intact  bilateral groins inspected status post right femoral artery used access diagnostic cardiac catheterization left femoral artery used pci evidence hematoma bruit intact distal pulseslaboratory data  ekg reviewed shows sinus bradycardia rate 51 beats per minute acute diseasesodium 136 potassium 38 chloride 105 bicarbonate 27  bun 16 creatinine 09  glucose 110  magnesium 25  alt 107 ast 65 normal 081508  inr 089 ptt 209 white blood cell count 82 hematocrit 31 35 081508 platelet count 257000impression plan  patient 68yearold woman exertional angina characterized arm pain underwent recent left anterior descending percutaneous coronary intervention recurrence arm pain post stenting left anterior descending artery may continuing collateral insufficiency right coronary artery  case given unstable presentation requiring three sublingual nitroglycerin even pain free going admit hospital currently evidence requiring acute reperfusion therapy  continue betablocker cannot increase dose bradycardic already  aspirin plavix valsartan lipitor norvasc  going add imdur watch headaches apparently nitro paste rule mi although little suspicion  suppose possible noncardiac arm pain seems less likely nitrate responsive seems exertionally related possibility may end needing put pacemaker maximize betablocker use antianginal effect  concern persistent right coronary artery ischemia helped left anterior descending percutaneous coronary intervention severely stenotic normal lv function  continue glucosamine arthritis claritin allergies detrol la urinary incontinencetotal patient care time emergency department 75 minutes  discussed detail patient daughter expressed understanding agreement  patient desires full resuscitation status'"
      ]
     },
     "execution_count": 31,
     "metadata": {},
     "output_type": "execute_result"
    }
   ],
   "source": [
    "df.transcription.iloc[0]"
   ]
  },
  {
   "cell_type": "code",
   "execution_count": 32,
   "id": "c5ea241d",
   "metadata": {},
   "outputs": [],
   "source": [
    "# Save the cleaned dataset\n",
    "df.to_csv(\"cleaned_med_spl.csv\", index=False)"
   ]
  },
  {
   "cell_type": "markdown",
   "id": "0838d99f",
   "metadata": {},
   "source": [
    "# Import Libraries"
   ]
  },
  {
   "cell_type": "code",
   "execution_count": 33,
   "id": "1f3efcf0",
   "metadata": {},
   "outputs": [],
   "source": [
    "import nltk\n",
    "from sklearn.model_selection import train_test_split\n",
    "from sklearn.feature_extraction.text import CountVectorizer\n",
    "from sklearn.feature_extraction.text import TfidfVectorizer\n",
    "from sklearn.preprocessing import LabelBinarizer\n",
    "from nltk.corpus import stopwords\n",
    "from nltk.stem.porter import PorterStemmer\n",
    "from wordcloud import WordCloud,STOPWORDS\n",
    "from nltk.stem import WordNetLemmatizer\n",
    "from nltk.tokenize import word_tokenize,sent_tokenize\n",
    "from bs4 import BeautifulSoup\n",
    "import re,string,unicodedata\n",
    "from nltk.tokenize.toktok import ToktokTokenizer\n",
    "from nltk.stem import LancasterStemmer,WordNetLemmatizer\n",
    "from sklearn.linear_model import LogisticRegression,SGDClassifier\n",
    "from sklearn.naive_bayes import MultinomialNB\n",
    "from sklearn.svm import SVC\n",
    "from sklearn.metrics import classification_report,confusion_matrix,accuracy_score"
   ]
  },
  {
   "cell_type": "markdown",
   "id": "83d8ebf4",
   "metadata": {},
   "source": [
    "## Create words as features (Bag of Words) "
   ]
  },
  {
   "cell_type": "code",
   "execution_count": 34,
   "id": "7faba983",
   "metadata": {},
   "outputs": [],
   "source": [
    "#Count vectorizer for bag of words\n",
    "cv = CountVectorizer(min_df=2, max_df=0.9, ngram_range=(1, 3), max_features=20000)\n",
    "\n",
    "#transformed train reviews\n",
    "cv_trans=cv.fit_transform(df['transcription'])"
   ]
  },
  {
   "cell_type": "code",
   "execution_count": 35,
   "id": "eb160b1a",
   "metadata": {},
   "outputs": [
    {
     "data": {
      "text/plain": [
       "array([[0, 0, 0, ..., 0, 0, 0],\n",
       "       [0, 0, 0, ..., 0, 0, 0],\n",
       "       [0, 0, 0, ..., 0, 0, 0],\n",
       "       ...,\n",
       "       [0, 0, 0, ..., 0, 0, 0],\n",
       "       [0, 0, 0, ..., 0, 0, 0],\n",
       "       [0, 0, 0, ..., 0, 0, 0]], dtype=int64)"
      ]
     },
     "execution_count": 35,
     "metadata": {},
     "output_type": "execute_result"
    }
   ],
   "source": [
    "cv_trans.toarray()"
   ]
  },
  {
   "cell_type": "code",
   "execution_count": 36,
   "id": "e04d1dca",
   "metadata": {},
   "outputs": [
    {
     "data": {
      "text/plain": [
       "array(['000', '0014', '0035', ..., 'zyrtec', 'zyrtec 10', 'zyrtec 10 mg'],\n",
       "      dtype=object)"
      ]
     },
     "execution_count": 36,
     "metadata": {},
     "output_type": "execute_result"
    }
   ],
   "source": [
    "cv.get_feature_names_out()"
   ]
  },
  {
   "cell_type": "code",
   "execution_count": 37,
   "id": "29e30dd3",
   "metadata": {},
   "outputs": [
    {
     "name": "stdout",
     "output_type": "stream",
     "text": [
      "LogisticRegression(C=1, max_iter=20000, multi_class='multinomial',\n",
      "                   random_state=42)\n"
     ]
    }
   ],
   "source": [
    "#training the model\n",
    "y = df['medical_specs_encoded']\n",
    "\n",
    "logit=LogisticRegression(penalty='l2',multi_class='multinomial',max_iter=20000,C=1,random_state=42)\n",
    "#Fitting the model for Bag of words\n",
    "logit_bow=logit.fit(cv_trans,y)\n",
    "print(logit_bow)"
   ]
  },
  {
   "cell_type": "code",
   "execution_count": 38,
   "id": "a859304c",
   "metadata": {},
   "outputs": [
    {
     "name": "stdout",
     "output_type": "stream",
     "text": [
      "logit_bow_score : 0.6227409638554217\n"
     ]
    }
   ],
   "source": [
    "#Accuracy score for bag of words\n",
    "X_train, X_test, y_train, y_test = train_test_split(cv_trans, y, test_size=0.2, random_state=42)\n",
    "logit_bow_predict=logit.predict(cv_trans)\n",
    "logit_bow_score=accuracy_score(y,logit_bow_predict)\n",
    "print(\"logit_bow_score :\",logit_bow_score)"
   ]
  },
  {
   "cell_type": "markdown",
   "id": "9f73ca0c",
   "metadata": {},
   "source": [
    "## TF/IDF"
   ]
  },
  {
   "cell_type": "code",
   "execution_count": 39,
   "id": "3476b8d7",
   "metadata": {},
   "outputs": [],
   "source": [
    "#Tfidf vectorizer\n",
    "tv=TfidfVectorizer(min_df=2,max_df=0.9,use_idf=True,ngram_range=(1,3),max_features=20000)\n",
    "#transformed train reviews\n",
    "tv_trans=tv.fit_transform(df['transcription'])"
   ]
  },
  {
   "cell_type": "code",
   "execution_count": 40,
   "id": "fb9f193e",
   "metadata": {},
   "outputs": [
    {
     "name": "stdout",
     "output_type": "stream",
     "text": [
      "LogisticRegression(C=10, max_iter=20000, multi_class='multinomial',\n",
      "                   random_state=42)\n"
     ]
    }
   ],
   "source": [
    "#training the model\n",
    "y = df['medical_specs_encoded']\n",
    "lr=LogisticRegression(penalty='l2',multi_class='multinomial',max_iter=20000,C=10,random_state=42)\n",
    "#Fitting the model for Bag of words\n",
    "lr_tv=lr.fit(tv_trans,y)\n",
    "print(lr_tv)"
   ]
  },
  {
   "cell_type": "code",
   "execution_count": 41,
   "id": "5e913cdd",
   "metadata": {
    "scrolled": true
   },
   "outputs": [
    {
     "name": "stdout",
     "output_type": "stream",
     "text": [
      "lr_tv_score : 0.6227409638554217\n"
     ]
    }
   ],
   "source": [
    "#Accuracy score for bag of words\n",
    "X_train, X_test, y_train, y_test = train_test_split(cv_trans, y, test_size=0.2, random_state=42)\n",
    "lr_tv_predict=lr_tv.predict(tv_trans)\n",
    "lr_tv_score=accuracy_score(y,lr_tv_predict)\n",
    "print(\"lr_tv_score :\",lr_tv_score)"
   ]
  },
  {
   "cell_type": "code",
   "execution_count": 42,
   "id": "c7bff5bb",
   "metadata": {},
   "outputs": [
    {
     "name": "stdout",
     "output_type": "stream",
     "text": [
      "MultinomialNB()\n"
     ]
    }
   ],
   "source": [
    "from sklearn.naive_bayes import MultinomialNB\n",
    "\n",
    "y = df['medical_specs_encoded']\n",
    "\n",
    "# Initialize Multinomial Naive Bayes classifier\n",
    "nb = MultinomialNB()\n",
    "\n",
    "# Fitting the model to the TF-IDF representation\n",
    "nb.fit(tv_trans, y)\n",
    "\n",
    "# Printing the trained model (optional)\n",
    "print(nb)"
   ]
  },
  {
   "cell_type": "code",
   "execution_count": 43,
   "id": "279ce4b0",
   "metadata": {},
   "outputs": [
    {
     "name": "stdout",
     "output_type": "stream",
     "text": [
      "Accuracy score for Bag of Words (BOW) with Naive Bayes: 0.49096385542168675\n"
     ]
    }
   ],
   "source": [
    "from sklearn.metrics import accuracy_score\n",
    "X_train, X_test, y_train, y_test = train_test_split(cv_trans, y, test_size=0.2, random_state=42)\n",
    "nb_bow_predict = nb.predict(cv_trans)\n",
    "nb_bow_score = accuracy_score(y, nb_bow_predict)\n",
    "print(\"Accuracy score for Bag of Words (BOW) with Naive Bayes:\", nb_bow_score)\n"
   ]
  },
  {
   "cell_type": "code",
   "execution_count": 44,
   "id": "230452d7",
   "metadata": {},
   "outputs": [
    {
     "name": "stdout",
     "output_type": "stream",
     "text": [
      "SVC(kernel='linear', random_state=42)\n"
     ]
    }
   ],
   "source": [
    "from sklearn.svm import SVC\n",
    "\n",
    "# cv_trans contains the transformed BOW representation\n",
    "# and df['medical_specs_encoded'] contains the encoded target classes\n",
    "\n",
    "# Assigning the target variable\n",
    "y = df['medical_specs_encoded']\n",
    "\n",
    "# Initialize SVM classifier\n",
    "svm = SVC(kernel='linear', C=1.0, random_state=42)\n",
    "\n",
    "# Fitting the model to the Bag of Words (BOW) representation\n",
    "svm_bow = svm.fit(cv_trans, y)\n",
    "\n",
    "# Printing the trained model\n",
    "print(svm_bow)"
   ]
  },
  {
   "cell_type": "code",
   "execution_count": 45,
   "id": "7be19306",
   "metadata": {},
   "outputs": [
    {
     "name": "stdout",
     "output_type": "stream",
     "text": [
      "Accuracy score for Bag of Words (BOW) with SVM: 0.6227409638554217\n"
     ]
    }
   ],
   "source": [
    "from sklearn.metrics import accuracy_score\n",
    "X_train, X_test, y_train, y_test = train_test_split(cv_trans, y, test_size=0.2, random_state=42)\n",
    "# Calculate accuracy score for bag of words\n",
    "svm_bow_predict = svm.predict(cv_trans)\n",
    "svm_bow_score = accuracy_score(y, svm_bow_predict)\n",
    "print(\"Accuracy score for Bag of Words (BOW) with SVM:\", svm_bow_score)\n"
   ]
  },
  {
   "cell_type": "markdown",
   "id": "f6ef7b4b",
   "metadata": {},
   "source": [
    "# Classification Report"
   ]
  },
  {
   "cell_type": "code",
   "execution_count": 49,
   "id": "1375dfad",
   "metadata": {},
   "outputs": [
    {
     "name": "stdout",
     "output_type": "stream",
     "text": [
      "Classification Report for Bag of Words:\n",
      "              precision    recall  f1-score   support\n",
      "\n",
      "           0       0.28      0.24      0.26        63\n",
      "           1       0.31      0.32      0.32        65\n",
      "           2       0.00      0.00      0.00        16\n",
      "           3       0.00      0.00      0.00        38\n",
      "           4       0.18      0.18      0.18        39\n",
      "           5       0.12      0.11      0.12        36\n",
      "           6       0.12      0.12      0.12        60\n",
      "           7       0.23      0.27      0.25        33\n",
      "           8       0.21      0.29      0.24        21\n",
      "           9       0.36      0.39      0.38       161\n",
      "\n",
      "    accuracy                           0.25       532\n",
      "   macro avg       0.18      0.19      0.19       532\n",
      "weighted avg       0.24      0.25      0.24       532\n",
      "\n"
     ]
    }
   ],
   "source": [
    "from sklearn.linear_model import LogisticRegression\n",
    "from sklearn.metrics import classification_report\n",
    "from sklearn.model_selection import train_test_split\n",
    "\n",
    "# cv_trans is the Bag of Words representation\n",
    "X_train_bow, X_test_bow, y_train_bow, y_test_bow = train_test_split(cv_trans, y, test_size=0.2, random_state=42)\n",
    "\n",
    "# Initialize and train the Logistic Regression model\n",
    "logit_bow = LogisticRegression(penalty='l2', multi_class='multinomial', max_iter=20000, C=1, random_state=42)\n",
    "logit_bow.fit(X_train_bow, y_train_bow)\n",
    "\n",
    "# Make predictions on the test set\n",
    "y_pred_bow = logit_bow.predict(X_test_bow)\n",
    "\n",
    "# Generate and print the classification report\n",
    "print(\"Classification Report for Bag of Words:\")\n",
    "print(classification_report(y_test_bow, y_pred_bow))\n"
   ]
  },
  {
   "cell_type": "code",
   "execution_count": 50,
   "id": "973a09c4",
   "metadata": {},
   "outputs": [
    {
     "name": "stdout",
     "output_type": "stream",
     "text": [
      "Classification Report for TF-IDF:\n",
      "              precision    recall  f1-score   support\n",
      "\n",
      "           0       0.29      0.21      0.24        63\n",
      "           1       0.36      0.49      0.42        65\n",
      "           2       0.00      0.00      0.00        16\n",
      "           3       0.00      0.00      0.00        38\n",
      "           4       0.14      0.13      0.13        39\n",
      "           5       0.15      0.08      0.11        36\n",
      "           6       0.22      0.17      0.19        60\n",
      "           7       0.24      0.30      0.27        33\n",
      "           8       0.14      0.10      0.11        21\n",
      "           9       0.46      0.63      0.53       161\n",
      "\n",
      "    accuracy                           0.33       532\n",
      "   macro avg       0.20      0.21      0.20       532\n",
      "weighted avg       0.28      0.33      0.30       532\n",
      "\n"
     ]
    },
    {
     "name": "stderr",
     "output_type": "stream",
     "text": [
      "C:\\Users\\Mohmad Adil\\anaconda3\\Lib\\site-packages\\sklearn\\metrics\\_classification.py:1469: UndefinedMetricWarning: Precision and F-score are ill-defined and being set to 0.0 in labels with no predicted samples. Use `zero_division` parameter to control this behavior.\n",
      "  _warn_prf(average, modifier, msg_start, len(result))\n",
      "C:\\Users\\Mohmad Adil\\anaconda3\\Lib\\site-packages\\sklearn\\metrics\\_classification.py:1469: UndefinedMetricWarning: Precision and F-score are ill-defined and being set to 0.0 in labels with no predicted samples. Use `zero_division` parameter to control this behavior.\n",
      "  _warn_prf(average, modifier, msg_start, len(result))\n",
      "C:\\Users\\Mohmad Adil\\anaconda3\\Lib\\site-packages\\sklearn\\metrics\\_classification.py:1469: UndefinedMetricWarning: Precision and F-score are ill-defined and being set to 0.0 in labels with no predicted samples. Use `zero_division` parameter to control this behavior.\n",
      "  _warn_prf(average, modifier, msg_start, len(result))\n"
     ]
    }
   ],
   "source": [
    "# tv_trans is the TF-IDF representation\n",
    "X_train_tfidf, X_test_tfidf, y_train_tfidf, y_test_tfidf = train_test_split(tv_trans, y, test_size=0.2, random_state=42)\n",
    "\n",
    "# Initialize and train the Logistic Regression model\n",
    "logit_tfidf = LogisticRegression(penalty='l2', multi_class='multinomial', max_iter=20000, C=1, random_state=42)\n",
    "logit_tfidf.fit(X_train_tfidf, y_train_tfidf)\n",
    "\n",
    "# Make predictions on the test set\n",
    "y_pred_tfidf = logit_tfidf.predict(X_test_tfidf)\n",
    "\n",
    "# Generate and print the classification report\n",
    "print(\"Classification Report for TF-IDF:\")\n",
    "print(classification_report(y_test_tfidf, y_pred_tfidf))\n"
   ]
  },
  {
   "cell_type": "code",
   "execution_count": null,
   "id": "efc96019",
   "metadata": {},
   "outputs": [],
   "source": []
  }
 ],
 "metadata": {
  "kernelspec": {
   "display_name": "Python 3 (ipykernel)",
   "language": "python",
   "name": "python3"
  },
  "language_info": {
   "codemirror_mode": {
    "name": "ipython",
    "version": 3
   },
   "file_extension": ".py",
   "mimetype": "text/x-python",
   "name": "python",
   "nbconvert_exporter": "python",
   "pygments_lexer": "ipython3",
   "version": "3.11.5"
  }
 },
 "nbformat": 4,
 "nbformat_minor": 5
}
